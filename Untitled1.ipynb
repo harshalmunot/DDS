{
  "nbformat": 4,
  "nbformat_minor": 0,
  "metadata": {
    "colab": {
      "provenance": [],
      "authorship_tag": "ABX9TyOxfGsB9G2YyTCu02eC2KaT",
      "include_colab_link": true
    },
    "kernelspec": {
      "name": "python3",
      "display_name": "Python 3"
    },
    "language_info": {
      "name": "python"
    }
  },
  "cells": [
    {
      "cell_type": "markdown",
      "metadata": {
        "id": "view-in-github",
        "colab_type": "text"
      },
      "source": [
        "<a href=\"https://colab.research.google.com/github/harshalmunot/DDS/blob/main/Untitled1.ipynb\" target=\"_parent\"><img src=\"https://colab.research.google.com/assets/colab-badge.svg\" alt=\"Open In Colab\"/></a>"
      ]
    },
    {
      "cell_type": "code",
      "execution_count": 3,
      "metadata": {
        "colab": {
          "base_uri": "https://localhost:8080/"
        },
        "id": "vXtQ_tXebu6C",
        "outputId": "cc0dc20d-54ba-4c47-c540-07a77b3a6c71"
      },
      "outputs": [
        {
          "output_type": "stream",
          "name": "stdout",
          "text": [
            "Overwriting Rgcd.cpp\n"
          ]
        }
      ],
      "source": [
        "%%writefile Rgcd.cpp\n",
        "#include\n",
        "using namespace std;\n",
        "\n",
        "// Recursive function to find GCD\n",
        "int gcd(int a, int b) {\n",
        "    if (b == 0)\n",
        "        return a;\n",
        "    return gcd(b, a % b);\n",
        "}\n",
        "\n",
        "int main() {\n",
        "    int a = 66, b = 18;\n",
        "    cout << \"GCD of \" << a << \" and \" << b << \" is: \" << gcd(a, b) << endl;\n",
        "    return 0;\n",
        "}\n"
      ]
    }
  ]
}