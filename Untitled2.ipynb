{
  "nbformat": 4,
  "nbformat_minor": 0,
  "metadata": {
    "colab": {
      "provenance": [],
      "authorship_tag": "ABX9TyNhMghLU5/Vgoo13Izte/Vc",
      "include_colab_link": true
    },
    "kernelspec": {
      "name": "python3",
      "display_name": "Python 3"
    },
    "language_info": {
      "name": "python"
    }
  },
  "cells": [
    {
      "cell_type": "markdown",
      "metadata": {
        "id": "view-in-github",
        "colab_type": "text"
      },
      "source": [
        "<a href=\"https://colab.research.google.com/github/harshalmunot/DDS/blob/main/Untitled2.ipynb\" target=\"_parent\"><img src=\"https://colab.research.google.com/assets/colab-badge.svg\" alt=\"Open In Colab\"/></a>"
      ]
    },
    {
      "cell_type": "code",
      "execution_count": 9,
      "metadata": {
        "colab": {
          "base_uri": "https://localhost:8080/"
        },
        "id": "vXtQ_tXebu6C",
        "outputId": "0d5d155c-51fe-467e-f6f3-442f39aaf2b1"
      },
      "outputs": [
        {
          "output_type": "stream",
          "name": "stdout",
          "text": [
            "Overwriting Rgcd.cpp\n"
          ]
        }
      ],
      "source": [
        "%%writefile Rgcd.cpp\n",
        "#include<iostream>\n",
        "using namespace std;\n",
        "\n",
        "int gcd(int a, int b)\n",
        "{\n",
        "\tif(b==0)\n",
        "\t\treturn a;\n",
        "\treturn gcd(b,a%b);\n",
        "}\n",
        "\n",
        "int main(){\n",
        "  int a=66,b=18;\n",
        "  cout<<\"GCD of \"<<a<<\" and \"<<b<<\" is \"<<gcd(a,b)<<endl;\n",
        "  return 0;\n",
        "}"
      ]
    },
    {
      "cell_type": "code",
      "source": [
        "!g++ Rgcd.cpp"
      ],
      "metadata": {
        "id": "DUNO4wu7epNq"
      },
      "execution_count": 10,
      "outputs": []
    },
    {
      "cell_type": "code",
      "source": [
        "!./a.out"
      ],
      "metadata": {
        "colab": {
          "base_uri": "https://localhost:8080/"
        },
        "id": "XEirjGmZeqzL",
        "outputId": "55bd25c1-937e-4509-fee3-171322f6f2a8"
      },
      "execution_count": 12,
      "outputs": [
        {
          "output_type": "stream",
          "name": "stdout",
          "text": [
            "GCD of 66 and 18 is 6\n"
          ]
        }
      ]
    }
  ]
}