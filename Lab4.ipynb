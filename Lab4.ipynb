{
  "nbformat": 4,
  "nbformat_minor": 0,
  "metadata": {
    "colab": {
      "provenance": [],
      "authorship_tag": "ABX9TyPObq+gfxVD7JOWRQkU/UQj",
      "include_colab_link": true
    },
    "kernelspec": {
      "name": "python3",
      "display_name": "Python 3"
    },
    "language_info": {
      "name": "python"
    }
  },
  "cells": [
    {
      "cell_type": "markdown",
      "metadata": {
        "id": "view-in-github",
        "colab_type": "text"
      },
      "source": [
        "<a href=\"https://colab.research.google.com/github/harshalmunot/DDS/blob/main/Lab4.ipynb\" target=\"_parent\"><img src=\"https://colab.research.google.com/assets/colab-badge.svg\" alt=\"Open In Colab\"/></a>"
      ]
    },
    {
      "cell_type": "code",
      "execution_count": 3,
      "metadata": {
        "colab": {
          "base_uri": "https://localhost:8080/"
        },
        "id": "aIw-59tWZFo5",
        "outputId": "fdf547fe-3f22-4db8-927a-bcd862a73e07"
      },
      "outputs": [
        {
          "output_type": "stream",
          "name": "stdout",
          "text": [
            "Overwriting lab4_hanoi.cpp\n"
          ]
        }
      ],
      "source": [
        "%%writefile  lab4_hanoi.cpp\n",
        "#include<iostream>\n",
        "using namespace std;\n",
        "\n",
        "void hanoi(int n, char source, char destination, char auxiliary) {\n",
        "  if(n==1){\n",
        "    cout<<\"Move disk 1 from rod \"<<source<<\" to rod \"<<destination<<endl;\n",
        "    return;\n",
        "  }\n",
        "  hanoi(n-1, source, auxiliary, destination);\n",
        "  cout<<\"Move disk \"<<n<<\" from rod \"<<source<<\" to rod \"<<destination<<endl;\n",
        "  hanoi(n-1, auxiliary, destination, source);\n",
        "  }\n",
        "  int main(){\n",
        "    int n=3;\n",
        "    cout<<\"Tower of hanoi(c++) -Steps for \"<< n << \"disks:\"<<endl << endl;\n",
        "    hanoi(n,'A', 'C', 'B');\n",
        "    return 0;\n",
        "}"
      ]
    },
    {
      "cell_type": "code",
      "source": [
        "!g++ lab4_hanoi.cpp -o lab4_hanoi\n",
        "!./lab4_hanoi\n"
      ],
      "metadata": {
        "colab": {
          "base_uri": "https://localhost:8080/"
        },
        "id": "Eq_6YMDVaylS",
        "outputId": "be69f460-7c3b-4c50-b004-448bb711eb3c"
      },
      "execution_count": 4,
      "outputs": [
        {
          "output_type": "stream",
          "name": "stdout",
          "text": [
            "Tower of hanoi(c++) -Steps for 3disks:\n",
            "\n",
            "Move disk 1 from rod A to rod C\n",
            "Move disk 2 from rod A to rod B\n",
            "Move disk 1 from rod C to rod B\n",
            "Move disk 3 from rod A to rod C\n",
            "Move disk 1 from rod B to rod A\n",
            "Move disk 2 from rod B to rod C\n",
            "Move disk 1 from rod A to rod C\n"
          ]
        }
      ]
    }
  ]
}